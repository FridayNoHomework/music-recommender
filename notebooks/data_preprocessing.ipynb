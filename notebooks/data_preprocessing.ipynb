{
 "cells": [
  {
   "cell_type": "code",
   "execution_count": 1,
   "id": "88bd7f15-da3a-444c-9ead-55ce7d1a8faa",
   "metadata": {
    "tags": []
   },
   "outputs": [],
   "source": [
    "import pandas as pd\n",
    "import pandas as pd"
   ]
  },
  {
   "cell_type": "code",
   "execution_count": 2,
   "id": "b4f31aa2",
   "metadata": {},
   "outputs": [],
   "source": [
    "# load from\n",
    "song_filepath = \"../data/raw_data/dataset.csv\"\n",
    "user_filepath = \"../data/raw_data/spotify_dataset.csv\"\n",
    "\n",
    "# save to\n",
    "common_df_filepath = \"../data/processed_data/dataset.csv\""
   ]
  },
  {
   "cell_type": "code",
   "execution_count": 3,
   "id": "dc32891c-af2c-49ad-8311-30aab4f390fb",
   "metadata": {
    "tags": []
   },
   "outputs": [],
   "source": [
    "song_df = pd.read_csv(song_filepath )\n",
    "user_df = pd.read_csv(user_filepath, on_bad_lines='skip')"
   ]
  },
  {
   "cell_type": "code",
   "execution_count": 4,
   "id": "b2b87ce4-dc19-42f4-b84a-33a36ffc7b84",
   "metadata": {
    "tags": []
   },
   "outputs": [
    {
     "data": {
      "text/plain": [
       "(114000, 21)"
      ]
     },
     "execution_count": 4,
     "metadata": {},
     "output_type": "execute_result"
    }
   ],
   "source": [
    "song_df.shape"
   ]
  },
  {
   "cell_type": "markdown",
   "id": "8fa6cab4",
   "metadata": {},
   "source": [
    "# clean song data\n",
    "When a singer includes the same song in multiple albums, the information for that song is recorded multiple times. However, for a given song, we only need one set of information. Therefore, for the same singer and song title, we only retain the information with the highest popularity."
   ]
  },
  {
   "cell_type": "code",
   "execution_count": 5,
   "id": "4172355d",
   "metadata": {},
   "outputs": [],
   "source": [
    "song_df_cleaned = song_df.sort_values('popularity', ascending=False).groupby(['artists', 'track_name'], as_index=False).first().reset_index(drop=True)"
   ]
  },
  {
   "cell_type": "code",
   "execution_count": 6,
   "id": "3157a11f",
   "metadata": {},
   "outputs": [],
   "source": [
    "used_song_cols = ['track_id', 'artists', 'album_name', 'track_name',\n",
    "       'popularity', 'duration_ms', 'explicit', 'danceability', 'energy',\n",
    "       'key', 'loudness', 'mode', 'speechiness', 'acousticness',\n",
    "       'instrumentalness', 'liveness', 'valence', 'tempo', 'time_signature',\n",
    "       'track_genre']\n",
    "song_df_cleaned = song_df_cleaned[used_song_cols]"
   ]
  },
  {
   "cell_type": "markdown",
   "id": "28ed1228",
   "metadata": {},
   "source": [
    "# clean user data"
   ]
  },
  {
   "cell_type": "code",
   "execution_count": 7,
   "id": "d57572e2",
   "metadata": {},
   "outputs": [
    {
     "data": {
      "text/html": [
       "<div>\n",
       "<style scoped>\n",
       "    .dataframe tbody tr th:only-of-type {\n",
       "        vertical-align: middle;\n",
       "    }\n",
       "\n",
       "    .dataframe tbody tr th {\n",
       "        vertical-align: top;\n",
       "    }\n",
       "\n",
       "    .dataframe thead th {\n",
       "        text-align: right;\n",
       "    }\n",
       "</style>\n",
       "<table border=\"1\" class=\"dataframe\">\n",
       "  <thead>\n",
       "    <tr style=\"text-align: right;\">\n",
       "      <th></th>\n",
       "      <th>user_id</th>\n",
       "      <th>artists</th>\n",
       "      <th>track_name</th>\n",
       "      <th>playlist</th>\n",
       "    </tr>\n",
       "  </thead>\n",
       "  <tbody>\n",
       "    <tr>\n",
       "      <th>0</th>\n",
       "      <td>9cc0cfd4d7d7885102480dd99e7a90d6</td>\n",
       "      <td>Elvis Costello</td>\n",
       "      <td>(The Angels Wanna Wear My) Red Shoes</td>\n",
       "      <td>HARD ROCK 2010</td>\n",
       "    </tr>\n",
       "    <tr>\n",
       "      <th>1</th>\n",
       "      <td>9cc0cfd4d7d7885102480dd99e7a90d6</td>\n",
       "      <td>Elvis Costello &amp; The Attractions</td>\n",
       "      <td>(What's So Funny 'Bout) Peace, Love And Unders...</td>\n",
       "      <td>HARD ROCK 2010</td>\n",
       "    </tr>\n",
       "    <tr>\n",
       "      <th>2</th>\n",
       "      <td>9cc0cfd4d7d7885102480dd99e7a90d6</td>\n",
       "      <td>Tiffany Page</td>\n",
       "      <td>7 Years Too Late</td>\n",
       "      <td>HARD ROCK 2010</td>\n",
       "    </tr>\n",
       "    <tr>\n",
       "      <th>3</th>\n",
       "      <td>9cc0cfd4d7d7885102480dd99e7a90d6</td>\n",
       "      <td>Elvis Costello &amp; The Attractions</td>\n",
       "      <td>Accidents Will Happen</td>\n",
       "      <td>HARD ROCK 2010</td>\n",
       "    </tr>\n",
       "    <tr>\n",
       "      <th>4</th>\n",
       "      <td>9cc0cfd4d7d7885102480dd99e7a90d6</td>\n",
       "      <td>Elvis Costello</td>\n",
       "      <td>Alison</td>\n",
       "      <td>HARD ROCK 2010</td>\n",
       "    </tr>\n",
       "  </tbody>\n",
       "</table>\n",
       "</div>"
      ],
      "text/plain": [
       "                            user_id                           artists  \\\n",
       "0  9cc0cfd4d7d7885102480dd99e7a90d6                    Elvis Costello   \n",
       "1  9cc0cfd4d7d7885102480dd99e7a90d6  Elvis Costello & The Attractions   \n",
       "2  9cc0cfd4d7d7885102480dd99e7a90d6                      Tiffany Page   \n",
       "3  9cc0cfd4d7d7885102480dd99e7a90d6  Elvis Costello & The Attractions   \n",
       "4  9cc0cfd4d7d7885102480dd99e7a90d6                    Elvis Costello   \n",
       "\n",
       "                                          track_name        playlist  \n",
       "0               (The Angels Wanna Wear My) Red Shoes  HARD ROCK 2010  \n",
       "1  (What's So Funny 'Bout) Peace, Love And Unders...  HARD ROCK 2010  \n",
       "2                                   7 Years Too Late  HARD ROCK 2010  \n",
       "3                              Accidents Will Happen  HARD ROCK 2010  \n",
       "4                                             Alison  HARD ROCK 2010  "
      ]
     },
     "execution_count": 7,
     "metadata": {},
     "output_type": "execute_result"
    }
   ],
   "source": [
    "user_df.rename(columns={' \"trackname\"': 'track_name',' \"artistname\"': 'artists',' \"playlistname\"': 'playlist'}, inplace=True)\n",
    "user_df.head(5)"
   ]
  },
  {
   "cell_type": "code",
   "execution_count": 8,
   "id": "3b2245ac",
   "metadata": {},
   "outputs": [
    {
     "data": {
      "text/plain": [
       "(12891680, 4)"
      ]
     },
     "execution_count": 8,
     "metadata": {},
     "output_type": "execute_result"
    }
   ],
   "source": [
    "user_df.shape"
   ]
  },
  {
   "cell_type": "code",
   "execution_count": 9,
   "id": "1c5ffca1",
   "metadata": {},
   "outputs": [
    {
     "data": {
      "text/plain": [
       "(12891677, 4)"
      ]
     },
     "execution_count": 9,
     "metadata": {},
     "output_type": "execute_result"
    }
   ],
   "source": [
    "user_df.drop_duplicates().shape"
   ]
  },
  {
   "cell_type": "markdown",
   "id": "838120dc",
   "metadata": {},
   "source": [
    "# merge 2 dataframes"
   ]
  },
  {
   "cell_type": "code",
   "execution_count": 11,
   "id": "c9af3d5b",
   "metadata": {},
   "outputs": [
    {
     "data": {
      "text/plain": [
       "Index(['user_id', 'artists', 'track_name', 'playlist'], dtype='object')"
      ]
     },
     "execution_count": 11,
     "metadata": {},
     "output_type": "execute_result"
    }
   ],
   "source": [
    "user_df.columns"
   ]
  },
  {
   "cell_type": "markdown",
   "id": "7e28f2de",
   "metadata": {},
   "source": [
    "Using song_label as a unique identifier for each song  \n",
    "Because we previously cleaned songs with identical identifiers, retaining the one with the highest popularity."
   ]
  },
  {
   "cell_type": "code",
   "execution_count": null,
   "id": "bc89e8da",
   "metadata": {},
   "outputs": [],
   "source": [
    "user_df['song_label'] = user_df['track_name'] + '-' + user_df['artists']"
   ]
  },
  {
   "cell_type": "code",
   "execution_count": 16,
   "id": "20ace28d",
   "metadata": {},
   "outputs": [],
   "source": [
    "song_df_cleaned['song_label'] = song_df_cleaned['track_name']  + '-' +  song_df_cleaned['artists']"
   ]
  },
  {
   "cell_type": "code",
   "execution_count": 17,
   "id": "fea52605",
   "metadata": {},
   "outputs": [
    {
     "data": {
      "text/plain": [
       "(872617, 23)"
      ]
     },
     "execution_count": 17,
     "metadata": {},
     "output_type": "execute_result"
    }
   ],
   "source": [
    "common_df = pd.merge(user_df[['user_id','song_label','playlist']], song_df_cleaned, on=['song_label'])\n",
    "common_df.shape"
   ]
  },
  {
   "cell_type": "code",
   "execution_count": 19,
   "id": "89f7e782",
   "metadata": {},
   "outputs": [
    {
     "data": {
      "text/plain": [
       "(14758, 1)"
      ]
     },
     "execution_count": 19,
     "metadata": {},
     "output_type": "execute_result"
    }
   ],
   "source": [
    "common_df[['song_label']].drop_duplicates().shape"
   ]
  },
  {
   "cell_type": "code",
   "execution_count": 21,
   "id": "657dccfb",
   "metadata": {},
   "outputs": [],
   "source": [
    "common_df.to_csv(common_df_filepath)"
   ]
  }
 ],
 "metadata": {
  "kernelspec": {
   "display_name": "Python 3 (ipykernel)",
   "language": "python",
   "name": "python3"
  },
  "language_info": {
   "codemirror_mode": {
    "name": "ipython",
    "version": 3
   },
   "file_extension": ".py",
   "mimetype": "text/x-python",
   "name": "python",
   "nbconvert_exporter": "python",
   "pygments_lexer": "ipython3",
   "version": "3.9.13"
  },
  "toc": {
   "base_numbering": 1,
   "nav_menu": {},
   "number_sections": true,
   "sideBar": true,
   "skip_h1_title": false,
   "title_cell": "Table of Contents",
   "title_sidebar": "Contents",
   "toc_cell": false,
   "toc_position": {},
   "toc_section_display": true,
   "toc_window_display": false
  }
 },
 "nbformat": 4,
 "nbformat_minor": 5
}
